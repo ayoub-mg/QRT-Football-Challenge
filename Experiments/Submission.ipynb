{
 "cells": [
  {
   "cell_type": "code",
   "execution_count": 1,
   "id": "0271094b",
   "metadata": {
    "execution": {
     "iopub.execute_input": "2023-12-03T09:01:05.918991Z",
     "iopub.status.busy": "2023-12-03T09:01:05.918796Z",
     "iopub.status.idle": "2023-12-03T09:01:07.725180Z",
     "shell.execute_reply": "2023-12-03T09:01:07.723966Z",
     "shell.execute_reply.started": "2023-12-03T09:01:05.918976Z"
    },
    "tags": []
   },
   "outputs": [],
   "source": [
    "import numpy as np # linear algebra\n",
    "import pandas as pd # data processing, CSV file I/O (e.g. pd.read_csv)\n",
    "import warnings\n",
    "import optuna\n",
    "from optuna.integration import CatBoostPruningCallback, XGBoostPruningCallback\n",
    "import seaborn as sns\n",
    "import matplotlib.pyplot as plt\n",
    "from sklearn.pipeline import Pipeline\n",
    "from sklearn.impute import SimpleImputer\n",
    "from sklearn.preprocessing import StandardScaler, OneHotEncoder\n",
    "from sklearn.compose import ColumnTransformer\n",
    "from sklearn.ensemble import RandomForestClassifier\n",
    "from sklearn.model_selection import train_test_split, StratifiedKFold\n",
    "from sklearn.ensemble import GradientBoostingClassifier\n",
    "# from lightgbm import LGBMClassifier\n",
    "from catboost import CatBoostClassifier\n",
    "from xgboost import XGBClassifier\n",
    "from sklearn.model_selection import train_test_split\n",
    "from sklearn.metrics import confusion_matrix, accuracy_score\n",
    "from sklearn.preprocessing import LabelEncoder\n",
    "from sklearn.metrics import log_loss, make_scorer\n",
    "from sklearn.ensemble import VotingClassifier, StackingClassifier\n",
    "from sklearn.linear_model import LogisticRegression\n",
    "from sklearn.neighbors import KNeighborsClassifier\n",
    "from sklearn.impute import KNNImputer\n",
    "\n",
    "from sklearn.decomposition import PCA\n",
    "\n",
    "import tensorflow as tf\n",
    "keras = tf.keras\n",
    "from keras.callbacks import EarlyStopping\n",
    "\n",
    "from sklearn.experimental import enable_iterative_imputer\n",
    "from sklearn.impute import IterativeImputer\n",
    "\n",
    "\n",
    "warnings.filterwarnings(\"ignore\")"
   ]
  },
  {
   "cell_type": "markdown",
   "id": "4b78fab9",
   "metadata": {},
   "source": [
    "### MLP"
   ]
  },
  {
   "cell_type": "code",
   "execution_count": 2,
   "id": "4ca40787",
   "metadata": {},
   "outputs": [
    {
     "name": "stdout",
     "output_type": "stream",
     "text": [
      "Saving the prepared data to data/prepared_data_train.parquet\n",
      "Data prepared and saved!\n"
     ]
    }
   ],
   "source": [
    "from PrepareData import DataPreparer\n",
    "path_to_data = r\"./Data/\"\n",
    "data_prep = DataPreparer(path = path_to_data, save_to_excel=False,train=True)\n",
    "data_prep.prepare_data()\n",
    "data_prep.save_data()"
   ]
  },
  {
   "cell_type": "code",
   "execution_count": 3,
   "id": "563159a7",
   "metadata": {},
   "outputs": [],
   "source": [
    "feature_columns =['HOME_TEAM_SHOTS_TOTAL_season_sum', 'HOME_TEAM_SHOTS_INSIDEBOX_season_sum', 'HOME_TEAM_SHOTS_OFF_TARGET_season_sum', 'HOME_TEAM_SHOTS_ON_TARGET_season_sum', 'HOME_TEAM_SHOTS_OUTSIDEBOX_season_sum', 'HOME_TEAM_PASSES_season_sum', 'HOME_TEAM_SUCCESSFUL_PASSES_season_sum', 'HOME_TEAM_SAVES_season_sum', 'HOME_TEAM_CORNERS_season_sum', 'HOME_TEAM_YELLOWCARDS_season_sum', 'HOME_TEAM_ATTACKS_season_sum', 'HOME_TEAM_DANGEROUS_ATTACKS_season_sum', 'HOME_TEAM_SHOTS_TOTAL_season_average', 'HOME_TEAM_SHOTS_INSIDEBOX_season_average', 'HOME_TEAM_SHOTS_OFF_TARGET_season_average', 'HOME_TEAM_SHOTS_ON_TARGET_season_average', 'HOME_TEAM_SHOTS_OUTSIDEBOX_season_average', 'HOME_TEAM_PASSES_season_average', 'HOME_TEAM_SUCCESSFUL_PASSES_PERCENTAGE_season_average', 'HOME_TEAM_SAVES_season_average', 'HOME_TEAM_BALL_POSSESSION_season_average', 'HOME_TEAM_YELLOWCARDS_season_average', 'HOME_TEAM_ATTACKS_season_average', 'HOME_TEAM_SHOTS_TOTAL_season_std', 'HOME_TEAM_SHOTS_INSIDEBOX_season_std', 'HOME_TEAM_SHOTS_OFF_TARGET_season_std', 'HOME_TEAM_SHOTS_ON_TARGET_season_std', 'HOME_TEAM_SHOTS_OUTSIDEBOX_season_std', 'HOME_TEAM_SUCCESSFUL_PASSES_season_std', 'HOME_TEAM_SUCCESSFUL_PASSES_PERCENTAGE_season_std', 'HOME_TEAM_SAVES_season_std', 'HOME_TEAM_CORNERS_season_std', 'HOME_TEAM_BALL_POSSESSION_season_std', 'HOME_TEAM_FOULS_season_std', 'HOME_TEAM_YELLOWCARDS_season_std', 'HOME_TEAM_OFFSIDES_season_std', 'HOME_TEAM_DANGEROUS_ATTACKS_season_std', 'HOME_TEAM_GOALS_season_std', 'HOME_TEAM_SHOTS_OFF_TARGET_5_last_match_sum', 'HOME_TEAM_SHOTS_OUTSIDEBOX_5_last_match_sum', 'HOME_TEAM_PASSES_5_last_match_sum', 'HOME_TEAM_SAVES_5_last_match_sum', 'HOME_TEAM_CORNERS_5_last_match_sum', 'HOME_TEAM_YELLOWCARDS_5_last_match_sum', 'HOME_TEAM_ATTACKS_5_last_match_sum', 'HOME_TEAM_SHOTS_OUTSIDEBOX_5_last_match_average', 'HOME_TEAM_PASSES_5_last_match_average', 'HOME_TEAM_SAVES_5_last_match_average', 'HOME_TEAM_YELLOWCARDS_5_last_match_average', 'HOME_TEAM_SHOTS_TOTAL_5_last_match_std', 'HOME_TEAM_SHOTS_INSIDEBOX_5_last_match_std', 'HOME_TEAM_SHOTS_OFF_TARGET_5_last_match_std', 'HOME_TEAM_SHOTS_ON_TARGET_5_last_match_std', 'HOME_TEAM_SHOTS_OUTSIDEBOX_5_last_match_std', 'HOME_TEAM_SUCCESSFUL_PASSES_PERCENTAGE_5_last_match_std', 'HOME_TEAM_SAVES_5_last_match_std', 'HOME_TEAM_CORNERS_5_last_match_std', 'HOME_TEAM_BALL_POSSESSION_5_last_match_std', 'HOME_TEAM_YELLOWCARDS_5_last_match_std', 'HOME_TEAM_ATTACKS_5_last_match_std', 'AWAY_TEAM_SHOTS_TOTAL_season_sum', 'AWAY_TEAM_SHOTS_INSIDEBOX_season_sum', 'AWAY_TEAM_SHOTS_OFF_TARGET_season_sum', 'AWAY_TEAM_SHOTS_ON_TARGET_season_sum', 'AWAY_TEAM_SHOTS_OUTSIDEBOX_season_sum', 'AWAY_TEAM_PASSES_season_sum', 'AWAY_TEAM_SUCCESSFUL_PASSES_season_sum', 'AWAY_TEAM_CORNERS_season_sum', 'AWAY_TEAM_YELLOWCARDS_season_sum', 'AWAY_TEAM_ATTACKS_season_sum', 'AWAY_TEAM_DANGEROUS_ATTACKS_season_sum', 'AWAY_TEAM_SHOTS_TOTAL_season_average', 'AWAY_TEAM_SHOTS_INSIDEBOX_season_average', 'AWAY_TEAM_SHOTS_OFF_TARGET_season_average', 'AWAY_TEAM_SHOTS_OUTSIDEBOX_season_average', 'AWAY_TEAM_SUCCESSFUL_PASSES_PERCENTAGE_season_average', 'AWAY_TEAM_CORNERS_season_average', 'AWAY_TEAM_YELLOWCARDS_season_average', 'AWAY_TEAM_SHOTS_TOTAL_season_std', 'AWAY_TEAM_SHOTS_INSIDEBOX_season_std', 'AWAY_TEAM_SHOTS_OFF_TARGET_season_std', 'AWAY_TEAM_SHOTS_ON_TARGET_season_std', 'AWAY_TEAM_SUCCESSFUL_PASSES_season_std', 'AWAY_TEAM_SUCCESSFUL_PASSES_PERCENTAGE_season_std', 'AWAY_TEAM_CORNERS_season_std', 'AWAY_TEAM_FOULS_season_std', 'AWAY_TEAM_YELLOWCARDS_season_std', 'AWAY_TEAM_OFFSIDES_season_std', 'AWAY_TEAM_GOALS_season_std', 'AWAY_TEAM_SHOTS_TOTAL_5_last_match_sum', 'AWAY_TEAM_SHOTS_OFF_TARGET_5_last_match_sum', 'AWAY_TEAM_SHOTS_ON_TARGET_5_last_match_sum', 'AWAY_TEAM_SHOTS_OUTSIDEBOX_5_last_match_sum', 'AWAY_TEAM_CORNERS_5_last_match_sum', 'AWAY_TEAM_ATTACKS_5_last_match_sum', 'AWAY_TEAM_DANGEROUS_ATTACKS_5_last_match_sum', 'AWAY_TEAM_SHOTS_TOTAL_5_last_match_average', 'AWAY_TEAM_SHOTS_OUTSIDEBOX_5_last_match_average', 'AWAY_TEAM_SUCCESSFUL_PASSES_PERCENTAGE_5_last_match_average', 'AWAY_TEAM_SAVES_5_last_match_average', 'AWAY_TEAM_DANGEROUS_ATTACKS_5_last_match_average', 'AWAY_TEAM_SHOTS_INSIDEBOX_5_last_match_std', 'AWAY_TEAM_SHOTS_OFF_TARGET_5_last_match_std', 'AWAY_TEAM_SHOTS_OUTSIDEBOX_5_last_match_std', 'AWAY_TEAM_YELLOWCARDS_5_last_match_std', 'AWAY_TEAM_PENALTIES_5_last_match_std', 'HOME_PLAYERS_PLAYER_DRIBBLED_PAST_season_sum_SUM', 'HOME_PLAYERS_PLAYER_HIT_WOODWORK_season_sum_SUM', 'HOME_PLAYERS_PLAYER_PENALTIES_SAVED_season_sum_SUM', 'HOME_PLAYERS_PLAYER_REDCARDS_season_sum_SUM', 'HOME_PLAYERS_PLAYER_SHOTS_BLOCKED_season_sum_SUM', 'HOME_PLAYERS_PLAYER_YELLOWCARDS_season_sum_SUM', 'HOME_PLAYERS_PLAYER_ACCURATE_CROSSES_season_average_SUM', 'HOME_PLAYERS_PLAYER_ASSISTS_season_average_SUM', 'HOME_PLAYERS_PLAYER_DUELS_LOST_season_average_SUM', 'HOME_PLAYERS_PLAYER_PASSES_season_average_SUM', 'HOME_PLAYERS_PLAYER_SHOTS_TOTAL_season_average_SUM', 'HOME_PLAYERS_PLAYER_ACCURATE_PASSES_season_std_SUM', 'HOME_PLAYERS_PLAYER_ACCURATE_PASSES_PERCENTAGE_season_std_SUM', 'HOME_PLAYERS_PLAYER_HIT_WOODWORK_season_std_SUM', 'HOME_PLAYERS_PLAYER_KEY_PASSES_season_std_SUM', 'AWAY_PLAYERS_PLAYER_BIG_CHANCES_MISSED_season_average_SUM', 'AWAY_PLAYERS_PLAYER_SHOTS_ON_TARGET_season_average_SUM']"
   ]
  },
  {
   "cell_type": "code",
   "execution_count": 4,
   "id": "d8ff39fd",
   "metadata": {},
   "outputs": [
    {
     "name": "stdout",
     "output_type": "stream",
     "text": [
      "Removed 13.08% of columns because they have more than 20% of values missing\n",
      "Removed 16.34% of columns because they have only one value\n",
      "Removed 44.42% of rows because they have missing values\n"
     ]
    }
   ],
   "source": [
    "from GetData import DataScaler\n",
    "data_scaler = DataScaler(train=True)\n",
    "data, _, target_column = data_scaler.get_data()"
   ]
  },
  {
   "cell_type": "code",
   "execution_count": 5,
   "id": "153944e3",
   "metadata": {},
   "outputs": [],
   "source": [
    "scaler = StandardScaler()\n",
    "X_scaled = scaler.fit_transform(data[feature_columns])\n",
    "X_train, X_test, y_train, y_test = train_test_split(\n",
    "    X_scaled, \n",
    "\tdata[target_column], \n",
    "\ttest_size=0.2, \n",
    "\trandom_state=42,\n",
    "\tstratify=data[target_column],\n",
    "\tshuffle=True\n",
    "\t)"
   ]
  },
  {
   "cell_type": "code",
   "execution_count": 6,
   "id": "b6de2350",
   "metadata": {},
   "outputs": [],
   "source": [
    "import tensorflow as tf\n",
    "keras = tf.keras\n",
    "from keras.models import Sequential\n",
    "from keras.layers import Dense, Dropout\n",
    "from keras.optimizers import Adam\n",
    "from keras.callbacks import EarlyStopping\n",
    "from keras import regularizers\n",
    "from sklearn.preprocessing import StandardScaler\n",
    "from keras.regularizers import l2"
   ]
  },
  {
   "cell_type": "code",
   "execution_count": 7,
   "id": "a80d7c3e",
   "metadata": {},
   "outputs": [
    {
     "name": "stdout",
     "output_type": "stream",
     "text": [
      "Epoch 1/20\n",
      "171/171 - 2s - 14ms/step - accuracy: 0.4399 - loss: 17.6967 - val_accuracy: 0.4846 - val_loss: 17.2517\n",
      "Epoch 2/20\n",
      "171/171 - 1s - 7ms/step - accuracy: 0.4872 - loss: 16.8585 - val_accuracy: 0.4868 - val_loss: 16.4516\n",
      "Epoch 3/20\n",
      "171/171 - 1s - 7ms/step - accuracy: 0.5046 - loss: 16.0712 - val_accuracy: 0.4868 - val_loss: 15.6883\n",
      "Epoch 4/20\n",
      "171/171 - 1s - 7ms/step - accuracy: 0.5101 - loss: 15.3185 - val_accuracy: 0.4868 - val_loss: 14.9594\n",
      "Epoch 5/20\n",
      "171/171 - 1s - 7ms/step - accuracy: 0.5101 - loss: 14.6016 - val_accuracy: 0.4876 - val_loss: 14.2615\n",
      "Epoch 6/20\n",
      "171/171 - 1s - 8ms/step - accuracy: 0.5132 - loss: 13.9134 - val_accuracy: 0.4868 - val_loss: 13.5952\n",
      "Epoch 7/20\n",
      "171/171 - 1s - 7ms/step - accuracy: 0.5139 - loss: 13.2564 - val_accuracy: 0.4839 - val_loss: 12.9567\n",
      "Epoch 8/20\n",
      "171/171 - 1s - 7ms/step - accuracy: 0.5192 - loss: 12.6290 - val_accuracy: 0.4868 - val_loss: 12.3481\n",
      "Epoch 9/20\n",
      "171/171 - 1s - 7ms/step - accuracy: 0.5234 - loss: 12.0291 - val_accuracy: 0.4912 - val_loss: 11.7670\n",
      "Epoch 10/20\n",
      "171/171 - 1s - 7ms/step - accuracy: 0.5247 - loss: 11.4581 - val_accuracy: 0.4898 - val_loss: 11.2125\n",
      "Epoch 11/20\n",
      "171/171 - 1s - 6ms/step - accuracy: 0.5267 - loss: 10.9129 - val_accuracy: 0.4854 - val_loss: 10.6810\n",
      "Epoch 12/20\n",
      "171/171 - 1s - 6ms/step - accuracy: 0.5303 - loss: 10.3902 - val_accuracy: 0.4868 - val_loss: 10.1743\n",
      "Epoch 13/20\n",
      "171/171 - 1s - 7ms/step - accuracy: 0.5311 - loss: 9.8931 - val_accuracy: 0.4817 - val_loss: 9.6904\n",
      "Epoch 14/20\n",
      "171/171 - 1s - 7ms/step - accuracy: 0.5364 - loss: 9.4179 - val_accuracy: 0.4890 - val_loss: 9.2287\n",
      "Epoch 15/20\n",
      "171/171 - 1s - 7ms/step - accuracy: 0.5336 - loss: 8.9638 - val_accuracy: 0.4846 - val_loss: 8.7872\n",
      "Epoch 16/20\n",
      "171/171 - 1s - 6ms/step - accuracy: 0.5364 - loss: 8.5317 - val_accuracy: 0.4868 - val_loss: 8.3671\n",
      "Epoch 17/20\n",
      "171/171 - 1s - 8ms/step - accuracy: 0.5349 - loss: 8.1195 - val_accuracy: 0.4825 - val_loss: 7.9660\n",
      "Epoch 18/20\n",
      "171/171 - 1s - 7ms/step - accuracy: 0.5369 - loss: 7.7268 - val_accuracy: 0.4846 - val_loss: 7.5843\n",
      "Epoch 19/20\n",
      "171/171 - 1s - 8ms/step - accuracy: 0.5391 - loss: 7.3532 - val_accuracy: 0.4854 - val_loss: 7.2208\n",
      "Epoch 19: early stopping\n",
      "Restoring model weights from the end of the best epoch: 9.\n",
      "\u001b[1m43/43\u001b[0m \u001b[32m━━━━━━━━━━━━━━━━━━━━\u001b[0m\u001b[37m\u001b[0m \u001b[1m0s\u001b[0m 2ms/step - accuracy: 0.5060 - loss: 11.7559\n",
      "Accuracy: 0.4912280738353729\n",
      "Loss: 11.766956329345703\n"
     ]
    }
   ],
   "source": [
    "X_train = X_train.to_numpy() if hasattr(X_train, 'to_numpy') else X_train\n",
    "X_test = X_test.to_numpy() if hasattr(X_test, 'to_numpy') else X_test\n",
    "\n",
    "\n",
    "# Define feature_columns\n",
    "feature_columns = X_train.shape[1]  # number of features\n",
    "\n",
    "def create_model(layer1=160, layer2=896, dropout_rate=0.15, l2_strength=0.001607168503200792, learning_rate=0.00001):\n",
    "    model = Sequential()\n",
    "    model.add(Dense(\n",
    "        layer1, \n",
    "        activation='relu', \n",
    "        kernel_regularizer=regularizers.l2(l2_strength), \n",
    "        input_dim=feature_columns\n",
    "    ))\n",
    "    model.add(Dense(\n",
    "        layer2, \n",
    "        activation='relu', \n",
    "        kernel_regularizer=regularizers.l2(l2_strength)\n",
    "    ))\n",
    "    model.add(Dropout(dropout_rate))   \n",
    "    model.add(Dense(3, activation='softmax')) \n",
    "    model.compile(optimizer=Adam(learning_rate=learning_rate), loss='sparse_categorical_crossentropy', metrics=['accuracy'])\n",
    "    return model\n",
    "\n",
    "# hyperparams\n",
    "layer1 = 896\n",
    "layer2 = 768\n",
    "dropout_rate = 0.05\n",
    "l2_strength = 0.016322487249990424\n",
    "\n",
    "\n",
    "# creation of the model\n",
    "model = create_model(\n",
    "    layer1=layer1,\n",
    "    layer2=layer2,\n",
    "    dropout_rate=dropout_rate,\n",
    "    l2_strength=l2_strength\n",
    ")\n",
    "\n",
    "# define early stopping criteria\n",
    "early_stopping = EarlyStopping(monitor='val_accuracy', patience=10, verbose=1, restore_best_weights=True)\n",
    "\n",
    "history = model.fit(\n",
    "    X_train, \n",
    "    y_train, \n",
    "    epochs=20, \n",
    "    batch_size=32, \n",
    "    validation_data=(X_test, y_test), \n",
    "    shuffle=True,\n",
    "    verbose=2,\n",
    "    callbacks=[early_stopping]\n",
    ")\n",
    "\n",
    "loss, accuracy = model.evaluate(X_test, y_test)\n",
    "print(f'Accuracy: {accuracy}')\n",
    "print(f'Loss: {loss}')\n"
   ]
  },
  {
   "cell_type": "code",
   "execution_count": 9,
   "id": "c448bc42",
   "metadata": {},
   "outputs": [
    {
     "name": "stdout",
     "output_type": "stream",
     "text": [
      "\u001b[1m43/43\u001b[0m \u001b[32m━━━━━━━━━━━━━━━━━━━━\u001b[0m\u001b[37m\u001b[0m \u001b[1m0s\u001b[0m 2ms/step\n"
     ]
    },
    {
     "data": {
      "text/plain": [
       "1368"
      ]
     },
     "execution_count": 9,
     "metadata": {},
     "output_type": "execute_result"
    }
   ],
   "source": [
    "predictions = model.predict(X_test)\n",
    "predicted_classes = np.argmax(predictions, axis=1) \n",
    "# print(classification_report(y_test, predicted_classes))\n",
    "len(predicted_classes)"
   ]
  },
  {
   "cell_type": "code",
   "execution_count": 10,
   "id": "d95b37aa",
   "metadata": {},
   "outputs": [
    {
     "data": {
      "image/png": "[encoded data removed]",
      "text/plain": [
       "<Figure size 1400x500 with 2 Axes>"
      ]
     },
     "metadata": {},
     "output_type": "display_data"
    }
   ],
   "source": [
    "fig, (ax1, ax2) = plt.subplots(1, 2, figsize=(14, 5))\n",
    "\n",
    "ax1.plot(history.history['accuracy'])\n",
    "ax1.plot(history.history['val_accuracy'])\n",
    "ax1.set_title('Model Accuracy')\n",
    "ax1.set_ylabel('Accuracy')\n",
    "ax1.set_xlabel('Epoch')\n",
    "ax1.legend(['Train', 'Validation'], loc='upper left')\n",
    "\n",
    "ax2.plot(history.history['loss'])\n",
    "ax2.plot(history.history['val_loss'])\n",
    "ax2.set_title('Model Loss')\n",
    "ax2.set_ylabel('Loss')\n",
    "ax2.set_xlabel('Epoch')\n",
    "ax2.legend(['Train', 'Validation'], loc='upper right')\n",
    "\n",
    "plt.show()"
   ]
  },
  {
   "cell_type": "code",
   "execution_count": 11,
   "id": "653bedb5",
   "metadata": {},
   "outputs": [
    {
     "name": "stdout",
     "output_type": "stream",
     "text": [
      "Trial 20 Complete [00h 00m 24s]\n",
      "val_accuracy: 0.48172515630722046\n",
      "\n",
      "Best val_accuracy So Far: 0.5021929740905762\n",
      "Total elapsed time: 00h 09m 19s\n"
     ]
    }
   ],
   "source": [
    "import keras_tuner\n",
    "feature_columns = X_train.shape[1]\n",
    "### construction de la fonction pour optimiser les hyperparamètres\n",
    "def build_model(hp):\n",
    "    layer1_units = hp.Int('layer1_units', min_value=32, max_value=1024, step=32)\n",
    "    layer2_units = hp.Int('layer2_units', min_value=32, max_value=1024, step=32)\n",
    "    l2_strength = hp.Float('l2_strength', min_value=0.001, max_value=0.1, sampling='log')\n",
    "    dropout_rate = hp.Float('dropout_rate', min_value=0.0, max_value=0.4, default=0.25, step=0.05)\n",
    "    \n",
    "    model = Sequential()\n",
    "    model.add(Dense(layer1_units, activation='relu', kernel_regularizer=regularizers.l2(l2_strength), input_dim=feature_columns))\n",
    "    model.add(Dense(layer2_units, activation='relu', kernel_regularizer=regularizers.l2(l2_strength)))\n",
    "    model.add(Dropout(dropout_rate))\n",
    "    model.add(Dense(3, activation='softmax'))\n",
    "    \n",
    "    model.compile(optimizer=Adam(learning_rate=0.00001), loss='sparse_categorical_crossentropy', metrics=['accuracy'])\n",
    "    \n",
    "    return model\n",
    "\n",
    "tuner = keras_tuner.RandomSearch(\n",
    "    hypermodel=build_model,\n",
    "    max_trials=20,\n",
    "    objective=\"val_accuracy\",\n",
    "    executions_per_trial=1,\n",
    "    overwrite=True,\n",
    "    directory=\"data/test_res\",\n",
    "    project_name=\"ML_QRT\",\n",
    ")\n",
    "\n",
    "tuner.search(X_train, y_train, epochs=20, validation_data=(X_test, y_test))"
   ]
  },
  {
   "cell_type": "code",
   "execution_count": 12,
   "id": "1c5dad0c",
   "metadata": {},
   "outputs": [
    {
     "name": "stdout",
     "output_type": "stream",
     "text": [
      "Model 1:\n",
      "Hyperparameters: {'layer1_units': 768, 'layer2_units': 640, 'l2_strength': 0.0551839701446723, 'dropout_rate': 0.0}\n",
      "Score: 0.5022\n",
      "\n",
      "Model 2:\n",
      "Hyperparameters: {'layer1_units': 704, 'layer2_units': 608, 'l2_strength': 0.008446843921252278, 'dropout_rate': 0.30000000000000004}\n",
      "Score: 0.4993\n",
      "\n",
      "Model 3:\n",
      "Hyperparameters: {'layer1_units': 512, 'layer2_units': 576, 'l2_strength': 0.0017316634872800985, 'dropout_rate': 0.05}\n",
      "Score: 0.4993\n",
      "\n",
      "Model 4:\n",
      "Hyperparameters: {'layer1_units': 768, 'layer2_units': 448, 'l2_strength': 0.004239922403447246, 'dropout_rate': 0.1}\n",
      "Score: 0.4978\n",
      "\n",
      "Model 5:\n",
      "Hyperparameters: {'layer1_units': 768, 'layer2_units': 800, 'l2_strength': 0.0075984338632936405, 'dropout_rate': 0.30000000000000004}\n",
      "Score: 0.4942\n",
      "\n",
      "Model 6:\n",
      "Hyperparameters: {'layer1_units': 384, 'layer2_units': 672, 'l2_strength': 0.011779860142648606, 'dropout_rate': 0.0}\n",
      "Score: 0.4934\n",
      "\n",
      "Model 7:\n",
      "Hyperparameters: {'layer1_units': 128, 'layer2_units': 320, 'l2_strength': 0.016069530933482346, 'dropout_rate': 0.35000000000000003}\n",
      "Score: 0.492\n",
      "\n",
      "Model 8:\n",
      "Hyperparameters: {'layer1_units': 576, 'layer2_units': 384, 'l2_strength': 0.05085089360130894, 'dropout_rate': 0.30000000000000004}\n",
      "Score: 0.492\n",
      "\n",
      "Model 9:\n",
      "Hyperparameters: {'layer1_units': 992, 'layer2_units': 672, 'l2_strength': 0.024656433999766234, 'dropout_rate': 0.0}\n",
      "Score: 0.492\n",
      "\n",
      "Model 10:\n",
      "Hyperparameters: {'layer1_units': 288, 'layer2_units': 800, 'l2_strength': 0.001766550135741773, 'dropout_rate': 0.0}\n",
      "Score: 0.492\n",
      "\n",
      "Model 11:\n",
      "Hyperparameters: {'layer1_units': 928, 'layer2_units': 416, 'l2_strength': 0.0011678341253394452, 'dropout_rate': 0.15000000000000002}\n",
      "Score: 0.4905\n",
      "\n",
      "Model 12:\n",
      "Hyperparameters: {'layer1_units': 224, 'layer2_units': 160, 'l2_strength': 0.0012370447944460082, 'dropout_rate': 0.15000000000000002}\n",
      "Score: 0.4898\n",
      "\n",
      "Model 13:\n",
      "Hyperparameters: {'layer1_units': 96, 'layer2_units': 832, 'l2_strength': 0.011252601260271772, 'dropout_rate': 0.2}\n",
      "Score: 0.489\n",
      "\n",
      "Model 14:\n",
      "Hyperparameters: {'layer1_units': 448, 'layer2_units': 992, 'l2_strength': 0.0012715537157600874, 'dropout_rate': 0.1}\n",
      "Score: 0.4876\n",
      "\n",
      "Model 15:\n",
      "Hyperparameters: {'layer1_units': 736, 'layer2_units': 736, 'l2_strength': 0.01225020692598847, 'dropout_rate': 0.15000000000000002}\n",
      "Score: 0.4861\n",
      "\n",
      "Model 16:\n",
      "Hyperparameters: {'layer1_units': 512, 'layer2_units': 96, 'l2_strength': 0.0407014099435923, 'dropout_rate': 0.15000000000000002}\n",
      "Score: 0.4861\n",
      "\n",
      "Model 17:\n",
      "Hyperparameters: {'layer1_units': 608, 'layer2_units': 256, 'l2_strength': 0.03667631741764738, 'dropout_rate': 0.05}\n",
      "Score: 0.4846\n",
      "\n",
      "Model 18:\n",
      "Hyperparameters: {'layer1_units': 928, 'layer2_units': 160, 'l2_strength': 0.052119181056554845, 'dropout_rate': 0.30000000000000004}\n",
      "Score: 0.4825\n",
      "\n",
      "Model 19:\n",
      "Hyperparameters: {'layer1_units': 704, 'layer2_units': 896, 'l2_strength': 0.09279016033292642, 'dropout_rate': 0.05}\n",
      "Score: 0.4817\n",
      "\n"
     ]
    }
   ],
   "source": [
    "nmodels = 19\n",
    "best_hyperparameters = tuner.get_best_hyperparameters(nmodels)\n",
    "evaluation_results = tuner.oracle.get_best_trials(nmodels)\n",
    "## pour chacun des modèles, on print les hyperparams et son score de validation\n",
    "for i, (hyperparameters, trial) in enumerate(zip(best_hyperparameters, evaluation_results)):\n",
    "    accuracy = trial.score\n",
    "    print(f\"Model {i+1}:\")\n",
    "    print(f\"Hyperparameters: {hyperparameters.values}\")\n",
    "    print(f\"Score: {round(accuracy, 4)}\\n\")"
   ]
  },
  {
   "cell_type": "code",
   "execution_count": 15,
   "id": "335a3c82",
   "metadata": {},
   "outputs": [
    {
     "name": "stdout",
     "output_type": "stream",
     "text": [
      "Epoch 1/20\n",
      "214/214 - 2s - 8ms/step - accuracy: 0.4242 - loss: 49.2453 - val_accuracy: 0.4839 - val_loss: 47.2307\n",
      "Epoch 2/20\n",
      "214/214 - 1s - 5ms/step - accuracy: 0.4841 - loss: 45.3662 - val_accuracy: 0.4898 - val_loss: 43.4975\n",
      "Epoch 3/20\n",
      "214/214 - 1s - 6ms/step - accuracy: 0.4933 - loss: 41.7629 - val_accuracy: 0.4861 - val_loss: 40.0218\n",
      "Epoch 4/20\n",
      "214/214 - 1s - 5ms/step - accuracy: 0.4961 - loss: 38.4065 - val_accuracy: 0.4898 - val_loss: 36.7840\n",
      "Epoch 5/20\n",
      "214/214 - 1s - 5ms/step - accuracy: 0.5001 - loss: 35.2804 - val_accuracy: 0.4854 - val_loss: 33.7696\n",
      "Epoch 6/20\n",
      "214/214 - 1s - 5ms/step - accuracy: 0.5032 - loss: 32.3705 - val_accuracy: 0.4898 - val_loss: 30.9641\n",
      "Epoch 7/20\n",
      "214/214 - 1s - 5ms/step - accuracy: 0.5060 - loss: 29.6626 - val_accuracy: 0.4942 - val_loss: 28.3537\n",
      "Epoch 8/20\n",
      "214/214 - 1s - 5ms/step - accuracy: 0.5053 - loss: 27.1436 - val_accuracy: 0.4934 - val_loss: 25.9263\n",
      "Epoch 9/20\n",
      "214/214 - 1s - 5ms/step - accuracy: 0.5048 - loss: 24.8020 - val_accuracy: 0.4876 - val_loss: 23.6707\n",
      "Epoch 10/20\n",
      "214/214 - 1s - 5ms/step - accuracy: 0.5069 - loss: 22.6270 - val_accuracy: 0.4883 - val_loss: 21.5766\n",
      "Epoch 11/20\n",
      "214/214 - 1s - 5ms/step - accuracy: 0.5070 - loss: 20.6085 - val_accuracy: 0.4890 - val_loss: 19.6337\n",
      "Epoch 12/20\n",
      "214/214 - 1s - 5ms/step - accuracy: 0.5070 - loss: 18.7373 - val_accuracy: 0.4905 - val_loss: 17.8343\n",
      "Epoch 13/20\n",
      "214/214 - 1s - 5ms/step - accuracy: 0.5080 - loss: 17.0052 - val_accuracy: 0.4920 - val_loss: 16.1696\n",
      "Epoch 14/20\n",
      "214/214 - 1s - 5ms/step - accuracy: 0.5083 - loss: 15.4042 - val_accuracy: 0.4912 - val_loss: 14.6323\n",
      "Epoch 15/20\n",
      "214/214 - 1s - 5ms/step - accuracy: 0.5088 - loss: 13.9267 - val_accuracy: 0.4920 - val_loss: 13.2153\n",
      "Epoch 16/20\n",
      "214/214 - 1s - 5ms/step - accuracy: 0.5095 - loss: 12.5662 - val_accuracy: 0.4934 - val_loss: 11.9113\n",
      "Epoch 17/20\n",
      "214/214 - 1s - 5ms/step - accuracy: 0.5082 - loss: 11.3160 - val_accuracy: 0.4920 - val_loss: 10.7149\n",
      "Epoch 17: early stopping\n",
      "Restoring model weights from the end of the best epoch: 7.\n"
     ]
    },
    {
     "data": {
      "text/plain": [
       "<keras.src.callbacks.history.History at 0x34dc2e110>"
      ]
     },
     "execution_count": 15,
     "metadata": {},
     "output_type": "execute_result"
    }
   ],
   "source": [
    "# hyperparams\n",
    "layer1 = 768\n",
    "layer2 = 640\n",
    "dropout_rate = 0.0\n",
    "l2_strength = 0.0551839701446723\n",
    "\n",
    "\n",
    "# creation of the model\n",
    "model = create_model(\n",
    "    layer1=layer1,\n",
    "    layer2=layer2,\n",
    "    dropout_rate=dropout_rate,\n",
    "    l2_strength=l2_strength\n",
    ")\n",
    "\n",
    "# define early stopping criteria\n",
    "early_stopping = EarlyStopping(monitor='val_accuracy', patience=10, verbose=1, restore_best_weights=True)\n",
    "\n",
    "model.fit(\n",
    "    X_scaled, \n",
    "    data[target_column], \n",
    "    epochs=20, \n",
    "    batch_size=32, \n",
    "    validation_data=(X_test, y_test), \n",
    "    shuffle=True,\n",
    "    verbose=2,\n",
    "    callbacks=[early_stopping]\n",
    ")"
   ]
  },
  {
   "cell_type": "code",
   "execution_count": 16,
   "id": "2e091fab",
   "metadata": {},
   "outputs": [
    {
     "name": "stdout",
     "output_type": "stream",
     "text": [
      "Saving the prepared data to data/prepared_data_test.parquet\n",
      "Data prepared and saved!\n"
     ]
    }
   ],
   "source": [
    "data_prep = DataPreparer(path = path_to_data, save_to_excel=False,train=False)\n",
    "data_prep.prepare_data()\n",
    "data_prep.save_data()"
   ]
  },
  {
   "cell_type": "code",
   "execution_count": 17,
   "id": "dd1cc8e7",
   "metadata": {},
   "outputs": [],
   "source": [
    "feature_columns =['HOME_TEAM_SHOTS_TOTAL_season_sum', 'HOME_TEAM_SHOTS_INSIDEBOX_season_sum', 'HOME_TEAM_SHOTS_OFF_TARGET_season_sum', 'HOME_TEAM_SHOTS_ON_TARGET_season_sum', 'HOME_TEAM_SHOTS_OUTSIDEBOX_season_sum', 'HOME_TEAM_PASSES_season_sum', 'HOME_TEAM_SUCCESSFUL_PASSES_season_sum', 'HOME_TEAM_SAVES_season_sum', 'HOME_TEAM_CORNERS_season_sum', 'HOME_TEAM_YELLOWCARDS_season_sum', 'HOME_TEAM_ATTACKS_season_sum', 'HOME_TEAM_DANGEROUS_ATTACKS_season_sum', 'HOME_TEAM_SHOTS_TOTAL_season_average', 'HOME_TEAM_SHOTS_INSIDEBOX_season_average', 'HOME_TEAM_SHOTS_OFF_TARGET_season_average', 'HOME_TEAM_SHOTS_ON_TARGET_season_average', 'HOME_TEAM_SHOTS_OUTSIDEBOX_season_average', 'HOME_TEAM_PASSES_season_average', 'HOME_TEAM_SUCCESSFUL_PASSES_PERCENTAGE_season_average', 'HOME_TEAM_SAVES_season_average', 'HOME_TEAM_BALL_POSSESSION_season_average', 'HOME_TEAM_YELLOWCARDS_season_average', 'HOME_TEAM_ATTACKS_season_average', 'HOME_TEAM_SHOTS_TOTAL_season_std', 'HOME_TEAM_SHOTS_INSIDEBOX_season_std', 'HOME_TEAM_SHOTS_OFF_TARGET_season_std', 'HOME_TEAM_SHOTS_ON_TARGET_season_std', 'HOME_TEAM_SHOTS_OUTSIDEBOX_season_std', 'HOME_TEAM_SUCCESSFUL_PASSES_season_std', 'HOME_TEAM_SUCCESSFUL_PASSES_PERCENTAGE_season_std', 'HOME_TEAM_SAVES_season_std', 'HOME_TEAM_CORNERS_season_std', 'HOME_TEAM_BALL_POSSESSION_season_std', 'HOME_TEAM_FOULS_season_std', 'HOME_TEAM_YELLOWCARDS_season_std', 'HOME_TEAM_OFFSIDES_season_std', 'HOME_TEAM_DANGEROUS_ATTACKS_season_std', 'HOME_TEAM_GOALS_season_std', 'HOME_TEAM_SHOTS_OFF_TARGET_5_last_match_sum', 'HOME_TEAM_SHOTS_OUTSIDEBOX_5_last_match_sum', 'HOME_TEAM_PASSES_5_last_match_sum', 'HOME_TEAM_SAVES_5_last_match_sum', 'HOME_TEAM_CORNERS_5_last_match_sum', 'HOME_TEAM_YELLOWCARDS_5_last_match_sum', 'HOME_TEAM_ATTACKS_5_last_match_sum', 'HOME_TEAM_SHOTS_OUTSIDEBOX_5_last_match_average', 'HOME_TEAM_PASSES_5_last_match_average', 'HOME_TEAM_SAVES_5_last_match_average', 'HOME_TEAM_YELLOWCARDS_5_last_match_average', 'HOME_TEAM_SHOTS_TOTAL_5_last_match_std', 'HOME_TEAM_SHOTS_INSIDEBOX_5_last_match_std', 'HOME_TEAM_SHOTS_OFF_TARGET_5_last_match_std', 'HOME_TEAM_SHOTS_ON_TARGET_5_last_match_std', 'HOME_TEAM_SHOTS_OUTSIDEBOX_5_last_match_std', 'HOME_TEAM_SUCCESSFUL_PASSES_PERCENTAGE_5_last_match_std', 'HOME_TEAM_SAVES_5_last_match_std', 'HOME_TEAM_CORNERS_5_last_match_std', 'HOME_TEAM_BALL_POSSESSION_5_last_match_std', 'HOME_TEAM_YELLOWCARDS_5_last_match_std', 'HOME_TEAM_ATTACKS_5_last_match_std', 'AWAY_TEAM_SHOTS_TOTAL_season_sum', 'AWAY_TEAM_SHOTS_INSIDEBOX_season_sum', 'AWAY_TEAM_SHOTS_OFF_TARGET_season_sum', 'AWAY_TEAM_SHOTS_ON_TARGET_season_sum', 'AWAY_TEAM_SHOTS_OUTSIDEBOX_season_sum', 'AWAY_TEAM_PASSES_season_sum', 'AWAY_TEAM_SUCCESSFUL_PASSES_season_sum', 'AWAY_TEAM_CORNERS_season_sum', 'AWAY_TEAM_YELLOWCARDS_season_sum', 'AWAY_TEAM_ATTACKS_season_sum', 'AWAY_TEAM_DANGEROUS_ATTACKS_season_sum', 'AWAY_TEAM_SHOTS_TOTAL_season_average', 'AWAY_TEAM_SHOTS_INSIDEBOX_season_average', 'AWAY_TEAM_SHOTS_OFF_TARGET_season_average', 'AWAY_TEAM_SHOTS_OUTSIDEBOX_season_average', 'AWAY_TEAM_SUCCESSFUL_PASSES_PERCENTAGE_season_average', 'AWAY_TEAM_CORNERS_season_average', 'AWAY_TEAM_YELLOWCARDS_season_average', 'AWAY_TEAM_SHOTS_TOTAL_season_std', 'AWAY_TEAM_SHOTS_INSIDEBOX_season_std', 'AWAY_TEAM_SHOTS_OFF_TARGET_season_std', 'AWAY_TEAM_SHOTS_ON_TARGET_season_std', 'AWAY_TEAM_SUCCESSFUL_PASSES_season_std', 'AWAY_TEAM_SUCCESSFUL_PASSES_PERCENTAGE_season_std', 'AWAY_TEAM_CORNERS_season_std', 'AWAY_TEAM_FOULS_season_std', 'AWAY_TEAM_YELLOWCARDS_season_std', 'AWAY_TEAM_OFFSIDES_season_std', 'AWAY_TEAM_GOALS_season_std', 'AWAY_TEAM_SHOTS_TOTAL_5_last_match_sum', 'AWAY_TEAM_SHOTS_OFF_TARGET_5_last_match_sum', 'AWAY_TEAM_SHOTS_ON_TARGET_5_last_match_sum', 'AWAY_TEAM_SHOTS_OUTSIDEBOX_5_last_match_sum', 'AWAY_TEAM_CORNERS_5_last_match_sum', 'AWAY_TEAM_ATTACKS_5_last_match_sum', 'AWAY_TEAM_DANGEROUS_ATTACKS_5_last_match_sum', 'AWAY_TEAM_SHOTS_TOTAL_5_last_match_average', 'AWAY_TEAM_SHOTS_OUTSIDEBOX_5_last_match_average', 'AWAY_TEAM_SUCCESSFUL_PASSES_PERCENTAGE_5_last_match_average', 'AWAY_TEAM_SAVES_5_last_match_average', 'AWAY_TEAM_DANGEROUS_ATTACKS_5_last_match_average', 'AWAY_TEAM_SHOTS_INSIDEBOX_5_last_match_std', 'AWAY_TEAM_SHOTS_OFF_TARGET_5_last_match_std', 'AWAY_TEAM_SHOTS_OUTSIDEBOX_5_last_match_std', 'AWAY_TEAM_YELLOWCARDS_5_last_match_std', 'AWAY_TEAM_PENALTIES_5_last_match_std', 'HOME_PLAYERS_PLAYER_DRIBBLED_PAST_season_sum_SUM', 'HOME_PLAYERS_PLAYER_HIT_WOODWORK_season_sum_SUM', 'HOME_PLAYERS_PLAYER_PENALTIES_SAVED_season_sum_SUM', 'HOME_PLAYERS_PLAYER_REDCARDS_season_sum_SUM', 'HOME_PLAYERS_PLAYER_SHOTS_BLOCKED_season_sum_SUM', 'HOME_PLAYERS_PLAYER_YELLOWCARDS_season_sum_SUM', 'HOME_PLAYERS_PLAYER_ACCURATE_CROSSES_season_average_SUM', 'HOME_PLAYERS_PLAYER_ASSISTS_season_average_SUM', 'HOME_PLAYERS_PLAYER_DUELS_LOST_season_average_SUM', 'HOME_PLAYERS_PLAYER_PASSES_season_average_SUM', 'HOME_PLAYERS_PLAYER_SHOTS_TOTAL_season_average_SUM', 'HOME_PLAYERS_PLAYER_ACCURATE_PASSES_season_std_SUM', 'HOME_PLAYERS_PLAYER_ACCURATE_PASSES_PERCENTAGE_season_std_SUM', 'HOME_PLAYERS_PLAYER_HIT_WOODWORK_season_std_SUM', 'HOME_PLAYERS_PLAYER_KEY_PASSES_season_std_SUM', 'AWAY_PLAYERS_PLAYER_BIG_CHANCES_MISSED_season_average_SUM', 'AWAY_PLAYERS_PLAYER_SHOTS_ON_TARGET_season_average_SUM']"
   ]
  },
  {
   "cell_type": "code",
   "execution_count": 18,
   "id": "771eec4a",
   "metadata": {},
   "outputs": [],
   "source": [
    "from GetData import DataScaler\n",
    "data_scaler = DataScaler(train=False)\n",
    "data, _, target_column = data_scaler.get_data()"
   ]
  },
  {
   "cell_type": "code",
   "execution_count": 19,
   "id": "d9096eb6",
   "metadata": {},
   "outputs": [],
   "source": [
    "test = data[feature_columns]"
   ]
  },
  {
   "cell_type": "code",
   "execution_count": 20,
   "id": "556d83d2",
   "metadata": {},
   "outputs": [
    {
     "name": "stdout",
     "output_type": "stream",
     "text": [
      "\u001b[1m793/793\u001b[0m \u001b[32m━━━━━━━━━━━━━━━━━━━━\u001b[0m\u001b[37m\u001b[0m \u001b[1m1s\u001b[0m 1ms/step\n"
     ]
    },
    {
     "data": {
      "text/plain": [
       "array([0, 2, 0, ..., 0, 0, 0])"
      ]
     },
     "execution_count": 20,
     "metadata": {},
     "output_type": "execute_result"
    }
   ],
   "source": [
    "predictions = model.predict(test)\n",
    "predicted_classes = np.argmax(predictions, axis=1)\n",
    "predicted_classes"
   ]
  },
  {
   "cell_type": "code",
   "execution_count": 21,
   "id": "ef0d5baa",
   "metadata": {},
   "outputs": [],
   "source": [
    "predictions = np.zeros((predicted_classes.shape[0], 3))\n",
    "predictions[np.arange(predicted_classes.shape[0]), predicted_classes] = 1\n",
    "predictions = pd.DataFrame(predictions, index=data.index).astype(\"int\")\n",
    "predictions.columns = ['HOME_WINS', 'DRAW', 'AWAY_WINS']\n",
    "predictions['ID'] = data['ID']\n",
    "submission = predictions[['ID', 'HOME_WINS', 'DRAW', 'AWAY_WINS']].reset_index(drop=True)\n",
    "submission.to_csv('submission.csv', index=False)"
   ]
  },
  {
   "cell_type": "code",
   "execution_count": 22,
   "id": "43e5cce2",
   "metadata": {},
   "outputs": [
    {
     "data": {
      "text/html": [
       "<div>\n",
       "<style scoped>\n",
       "    .dataframe tbody tr th:only-of-type {\n",
       "        vertical-align: middle;\n",
       "    }\n",
       "\n",
       "    .dataframe tbody tr th {\n",
       "        vertical-align: top;\n",
       "    }\n",
       "\n",
       "    .dataframe thead th {\n",
       "        text-align: right;\n",
       "    }\n",
       "</style>\n",
       "<table border=\"1\" class=\"dataframe\">\n",
       "  <thead>\n",
       "    <tr style=\"text-align: right;\">\n",
       "      <th></th>\n",
       "      <th>ID</th>\n",
       "      <th>HOME_WINS</th>\n",
       "      <th>DRAW</th>\n",
       "      <th>AWAY_WINS</th>\n",
       "    </tr>\n",
       "  </thead>\n",
       "  <tbody>\n",
       "    <tr>\n",
       "      <th>0</th>\n",
       "      <td>12303</td>\n",
       "      <td>1</td>\n",
       "      <td>0</td>\n",
       "      <td>0</td>\n",
       "    </tr>\n",
       "    <tr>\n",
       "      <th>1</th>\n",
       "      <td>12304</td>\n",
       "      <td>0</td>\n",
       "      <td>0</td>\n",
       "      <td>1</td>\n",
       "    </tr>\n",
       "    <tr>\n",
       "      <th>2</th>\n",
       "      <td>12305</td>\n",
       "      <td>1</td>\n",
       "      <td>0</td>\n",
       "      <td>0</td>\n",
       "    </tr>\n",
       "    <tr>\n",
       "      <th>3</th>\n",
       "      <td>12306</td>\n",
       "      <td>1</td>\n",
       "      <td>0</td>\n",
       "      <td>0</td>\n",
       "    </tr>\n",
       "    <tr>\n",
       "      <th>4</th>\n",
       "      <td>12307</td>\n",
       "      <td>0</td>\n",
       "      <td>0</td>\n",
       "      <td>1</td>\n",
       "    </tr>\n",
       "    <tr>\n",
       "      <th>...</th>\n",
       "      <td>...</td>\n",
       "      <td>...</td>\n",
       "      <td>...</td>\n",
       "      <td>...</td>\n",
       "    </tr>\n",
       "    <tr>\n",
       "      <th>25363</th>\n",
       "      <td>37666</td>\n",
       "      <td>1</td>\n",
       "      <td>0</td>\n",
       "      <td>0</td>\n",
       "    </tr>\n",
       "    <tr>\n",
       "      <th>25364</th>\n",
       "      <td>37667</td>\n",
       "      <td>1</td>\n",
       "      <td>0</td>\n",
       "      <td>0</td>\n",
       "    </tr>\n",
       "    <tr>\n",
       "      <th>25365</th>\n",
       "      <td>37668</td>\n",
       "      <td>1</td>\n",
       "      <td>0</td>\n",
       "      <td>0</td>\n",
       "    </tr>\n",
       "    <tr>\n",
       "      <th>25366</th>\n",
       "      <td>37669</td>\n",
       "      <td>1</td>\n",
       "      <td>0</td>\n",
       "      <td>0</td>\n",
       "    </tr>\n",
       "    <tr>\n",
       "      <th>25367</th>\n",
       "      <td>37670</td>\n",
       "      <td>1</td>\n",
       "      <td>0</td>\n",
       "      <td>0</td>\n",
       "    </tr>\n",
       "  </tbody>\n",
       "</table>\n",
       "<p>25368 rows × 4 columns</p>\n",
       "</div>"
      ],
      "text/plain": [
       "          ID  HOME_WINS  DRAW  AWAY_WINS\n",
       "0      12303          1     0          0\n",
       "1      12304          0     0          1\n",
       "2      12305          1     0          0\n",
       "3      12306          1     0          0\n",
       "4      12307          0     0          1\n",
       "...      ...        ...   ...        ...\n",
       "25363  37666          1     0          0\n",
       "25364  37667          1     0          0\n",
       "25365  37668          1     0          0\n",
       "25366  37669          1     0          0\n",
       "25367  37670          1     0          0\n",
       "\n",
       "[25368 rows x 4 columns]"
      ]
     },
     "execution_count": 22,
     "metadata": {},
     "output_type": "execute_result"
    }
   ],
   "source": [
    "submission"
   ]
  }
 ],
 "metadata": {
  "kernelspec": {
   "display_name": "Python 3 (ipykernel)",
   "language": "python",
   "name": "python3"
  },
  "language_info": {
   "codemirror_mode": {
    "name": "ipython",
    "version": 3
   },
   "file_extension": ".py",
   "mimetype": "text/x-python",
   "name": "python",
   "nbconvert_exporter": "python",
   "pygments_lexer": "ipython3",
   "version": "3.11.9"
  }
 },
 "nbformat": 4,
 "nbformat_minor": 5
}
